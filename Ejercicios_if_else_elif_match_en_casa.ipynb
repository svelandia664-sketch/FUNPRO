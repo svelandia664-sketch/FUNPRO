{
  "nbformat": 4,
  "nbformat_minor": 0,
  "metadata": {
    "colab": {
      "provenance": [],
      "authorship_tag": "ABX9TyPdHeymJsRvCvbLXb+bVbo9",
      "include_colab_link": true
    },
    "kernelspec": {
      "name": "python3",
      "display_name": "Python 3"
    },
    "language_info": {
      "name": "python"
    }
  },
  "cells": [
    {
      "cell_type": "markdown",
      "metadata": {
        "id": "view-in-github",
        "colab_type": "text"
      },
      "source": [
        "<a href=\"https://colab.research.google.com/github/svelandia664-sketch/FUNPRO/blob/main/Ejercicios_if_else_elif_match_en_casa.ipynb\" target=\"_parent\"><img src=\"https://colab.research.google.com/assets/colab-badge.svg\" alt=\"Open In Colab\"/></a>"
      ]
    },
    {
      "cell_type": "code",
      "execution_count": null,
      "metadata": {
        "colab": {
          "base_uri": "https://localhost:8080/"
        },
        "id": "aJY0WfaRjzX7",
        "outputId": "2d3b49c2-be25-4bcc-caea-267c983e6994"
      },
      "outputs": [
        {
          "output_type": "stream",
          "name": "stdout",
          "text": [
            "Ingrese un número: 1.2\n",
            "Positivo\n"
          ]
        }
      ],
      "source": [
        "# Ejercicio 1 con if/else\n",
        "num = float(input(\"Ingrese un número: \"))\n",
        "if num == 0:\n",
        "    print(\"Cero\")\n",
        "else:\n",
        "    if num > 0:\n",
        "        print(\"Positivo\")\n",
        "    else:\n",
        "        print(\"Negativo\")"
      ]
    },
    {
      "cell_type": "code",
      "source": [
        "# Ejercicio 2 con if/elif/else\n",
        "año=int(input(\"Ingresar año: \"))\n",
        "n1=año % 100\n",
        "n2=año % 4\n",
        "n3=año % 400\n",
        "if n3==0 or n2==0 :\n",
        "  print(f\"{año} Bisiesto\")\n",
        "elif n1==0:\n",
        "  print(f\"{año} No bisiesto\")\n",
        "else:\n",
        "  print(f\"{año} No bisiesto\")"
      ],
      "metadata": {
        "colab": {
          "base_uri": "https://localhost:8080/"
        },
        "id": "EyFXSqyafHDd",
        "outputId": "c6457d3b-2aeb-4434-a521-fc349c4c2c3f"
      },
      "execution_count": null,
      "outputs": [
        {
          "output_type": "stream",
          "name": "stdout",
          "text": [
            "Ingresar año: 2025\n",
            "2025 No bisiesto\n"
          ]
        }
      ]
    },
    {
      "cell_type": "code",
      "source": [
        "# Ejercicio 3 con if/else\n",
        "peso = float(input(\"Peso (kg): \"))\n",
        "alt = float(input(\"Altura (m): \"))\n",
        "imc = peso / (alt ** 2)\n",
        "if imc < 18.5:\n",
        "    print(\"Bajo peso\")\n",
        "else:\n",
        "    if imc < 25:\n",
        "        print(\"Peso normal\")\n",
        "    else:\n",
        "        if imc < 30:\n",
        "            print(\"Sobrepeso\")\n",
        "        else:\n",
        "            print(\"Obesidad\")"
      ],
      "metadata": {
        "colab": {
          "base_uri": "https://localhost:8080/"
        },
        "id": "bam600rkgwaM",
        "outputId": "b8e5f6d8-eaaf-4c14-92a3-9e4275e5359a"
      },
      "execution_count": null,
      "outputs": [
        {
          "output_type": "stream",
          "name": "stdout",
          "text": [
            "Peso (kg): 70\n",
            "Altura (m): 1.80\n",
            "Peso normal\n"
          ]
        }
      ]
    },
    {
      "cell_type": "code",
      "source": [
        "# Ejercicio 3 con match\n",
        "peso = float(input(\"Peso (kg): \"))\n",
        "alt = float(input(\"Altura (m): \"))\n",
        "imc = peso / (alt ** 2)\n",
        "match True:\n",
        "    case _ if imc < 18.5:\n",
        "        print(\"Bajo peso\")\n",
        "    case _ if imc < 25:\n",
        "        print(\"Peso normal\")\n",
        "    case _ if imc < 30:\n",
        "        print(\"Sobrepeso\")\n",
        "    case _:\n",
        "        print(\"Obesidad\")"
      ],
      "metadata": {
        "colab": {
          "base_uri": "https://localhost:8080/"
        },
        "id": "1rOdFJMGil4D",
        "outputId": "472b54e1-ae0f-4e6f-ce0c-80034a9cbe92"
      },
      "execution_count": null,
      "outputs": [
        {
          "output_type": "stream",
          "name": "stdout",
          "text": [
            "Peso (kg): 120\n",
            "Altura (m): 1.80\n",
            "Obesidad\n"
          ]
        }
      ]
    },
    {
      "cell_type": "code",
      "source": [
        "# Ejercicio 4 con if/elif/else\n",
        "print(\"1. Suma\")\n",
        "print(\"2. Resta\")\n",
        "print(\"3. Multiplicación\")\n",
        "print(\"4. División\")\n",
        "op = int(input(\"Elija una opción (1-4): \"))\n",
        "a = float(input(\"Primer número: \"))\n",
        "b = float(input(\"Segundo número: \"))\n",
        "if op == 1:\n",
        "    print(\"Resultado:\", a + b)\n",
        "elif op == 2:\n",
        "    print(\"Resultado:\", a - b)\n",
        "elif op == 3:\n",
        "    print(\"Resultado:\", a * b)\n",
        "elif op == 4:\n",
        "    if b == 0:\n",
        "        print(\"No se puede dividir entre cero\")\n",
        "    else:\n",
        "        print(\"Resultado:\", a / b)\n",
        "else:\n",
        "    print(\"Opción no válida\")"
      ],
      "metadata": {
        "colab": {
          "base_uri": "https://localhost:8080/"
        },
        "id": "MxFvX7feivED",
        "outputId": "eb4564b3-a2d5-4fe6-874f-149843a7a15c"
      },
      "execution_count": null,
      "outputs": [
        {
          "output_type": "stream",
          "name": "stdout",
          "text": [
            "1. Suma\n",
            "2. Resta\n",
            "3. Multiplicación\n",
            "4. División\n",
            "Elija una opción (1-4): 2\n",
            "Primer número: 2\n",
            "Segundo número: 3\n",
            "Resultado: -1.0\n"
          ]
        }
      ]
    },
    {
      "cell_type": "code",
      "source": [
        "# Ejercicio 4 con if/else\n",
        "print(\"1. Suma\")\n",
        "print(\"2. Resta\")\n",
        "print(\"3. Multiplicación\")\n",
        "print(\"4. División\")\n",
        "op = int(input(\"Elija una opción (1-4): \"))\n",
        "a = float(input(\"Primer número: \"))\n",
        "b = float(input(\"Segundo número: \"))\n",
        "if op == 1:\n",
        "    print(\"Resultado:\", a + b)\n",
        "else:\n",
        "    if op == 2:\n",
        "        print(\"Resultado:\", a - b)\n",
        "    else:\n",
        "        if op == 3:\n",
        "            print(\"Resultado:\", a * b)\n",
        "        else:\n",
        "            if op == 4:\n",
        "                if b == 0:\n",
        "                    print(\"No se puede dividir entre cero\")\n",
        "                else:\n",
        "                    print(\"Resultado:\", a / b)\n",
        "            else:\n",
        "                print(\"Opción no válida\")"
      ],
      "metadata": {
        "colab": {
          "base_uri": "https://localhost:8080/"
        },
        "id": "3F-SwaXri9D4",
        "outputId": "7cd6a11e-6309-4738-c4c2-c7ec280ed24f"
      },
      "execution_count": null,
      "outputs": [
        {
          "output_type": "stream",
          "name": "stdout",
          "text": [
            "1. Suma\n",
            "2. Resta\n",
            "3. Multiplicación\n",
            "4. División\n",
            "Elija una opción (1-4): 3\n",
            "Primer número: 6\n",
            "Segundo número: 2\n",
            "Resultado: 12.0\n"
          ]
        }
      ]
    },
    {
      "cell_type": "code",
      "source": [
        "# Ejercicio 5 con if/else\n",
        "l1 = float(input(\"Lado 1: \"))\n",
        "l2 = float(input(\"Lado 2: \"))\n",
        "l3 = float(input(\"Lado 3: \"))\n",
        "if (l1 + l2 <= l3) or (l1 + l3 <= l2) or (l2 + l3 <= l1):\n",
        "    print(\"No forman un triángulo válido\")\n",
        "else:\n",
        "    if l1 == l2 == l3:\n",
        "        print(\"Equilátero\")\n",
        "    else:\n",
        "        if l1 == l2 or l1 == l3 or l2 == l3:\n",
        "            print(\"Isósceles\")\n",
        "        else:\n",
        "            print(\"Escaleno\")"
      ],
      "metadata": {
        "colab": {
          "base_uri": "https://localhost:8080/"
        },
        "id": "SjeuG1R7kByW",
        "outputId": "73cbce3c-ffe1-487c-da70-d067ad3894ea"
      },
      "execution_count": null,
      "outputs": [
        {
          "output_type": "stream",
          "name": "stdout",
          "text": [
            "Lado 1: 4\n",
            "Lado 2: 4\n",
            "Lado 3: 2\n",
            "Isósceles\n"
          ]
        }
      ]
    },
    {
      "cell_type": "markdown",
      "source": [],
      "metadata": {
        "id": "BzH2U0ga4yVK"
      }
    }
  ]
}