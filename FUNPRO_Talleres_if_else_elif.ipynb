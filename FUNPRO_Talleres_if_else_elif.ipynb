{
  "nbformat": 4,
  "nbformat_minor": 0,
  "metadata": {
    "colab": {
      "provenance": [],
      "include_colab_link": true
    },
    "kernelspec": {
      "name": "python3",
      "display_name": "Python 3"
    },
    "language_info": {
      "name": "python"
    }
  },
  "cells": [
    {
      "cell_type": "markdown",
      "metadata": {
        "id": "view-in-github",
        "colab_type": "text"
      },
      "source": [
        "<a href=\"https://colab.research.google.com/github/svelandia664-sketch/FUNPRO/blob/main/FUNPRO_Talleres_if_else_elif.ipynb\" target=\"_parent\"><img src=\"https://colab.research.google.com/assets/colab-badge.svg\" alt=\"Open In Colab\"/></a>"
      ]
    },
    {
      "cell_type": "markdown",
      "source": [
        "Desarrollar los siguientes ejercicios\n",
        "1. Desarrollar un sistema de riego de tal forma que:\n",
        "\n",
        "\n",
        "*   Riegue si humedad_suelo < 35 y prob_lluvia < 40.\n",
        "*   No regar entre 11–15 si temp_c > 30 (evitar evaporación).\n",
        "* Si prob_lluvia >= 70, nunca regar.\n",
        "* Si el sensor no detecta ningún valor, el sistema debe imprimir \"Error sensor\"\n",
        "\n",
        "2. Desarrollar un sistema de tarifación de energía que pida:\n",
        "* Cantidad de kilobatios consumidos (Kwh), estrato, día de la semana en la cuál se realiza la medición.\n",
        "* Base=kwh*620\n",
        "* Hay descuento del 20% si pertenece al estrato 0, 1 y 2.\n",
        "* Si es festivo o día de la semana, se debe aplicar un tope. Los Kwh no pueden superar los 1000 o recibirá un recargo de 800 por Kwh\n",
        "* Si Kwh<0 o estrato no es válido, se debe indicar un Error y programar una visita al predio."
      ],
      "metadata": {
        "id": "GUaGgbsp11Yo"
      }
    },
    {
      "cell_type": "code",
      "source": [
        "humedad = float(input(\"Ingrese la humedad (%): \"))\n",
        "prob_lluvia = float(input(\"Ingrese la probabilidad de lluvia (%): \"))\n",
        "temp_c = float(input(\"Ingrese la temperatura (°C): \"))\n",
        "hora = int(input(\"Ingrese la hora (24h): \"))\n",
        "\n",
        "if humedad < 0 or prob_lluvia < 0 or hora < 0 or hora > 23:\n",
        "    print(\"Error sensor\")\n",
        "elif prob_lluvia >= 70:\n",
        "    print(\"No regar\")\n",
        "elif 11 <= hora <= 15 and temp_c > 30:\n",
        "      print(\"No regar\")\n",
        "elif humedad < 35 and prob_lluvia < 40:\n",
        "        print(\"Regar\")\n",
        "else:\n",
        "        print(\"No regar\")\n"
      ],
      "metadata": {
        "colab": {
          "base_uri": "https://localhost:8080/"
        },
        "id": "epwLIf9A9vGv",
        "outputId": "c3a01228-695e-41c9-e90b-d042cc6434ef"
      },
      "execution_count": 1,
      "outputs": [
        {
          "output_type": "stream",
          "name": "stdout",
          "text": [
            "Ingrese la humedad (%): 25\n",
            "Ingrese la probabilidad de lluvia (%): 25\n",
            "Ingrese la temperatura (°C): 20\n",
            "Ingrese la hora (24h): 12\n",
            "Regar\n"
          ]
        }
      ]
    },
    {
      "cell_type": "code",
      "execution_count": 47,
      "metadata": {
        "id": "nvMkW4DbqMzb",
        "colab": {
          "base_uri": "https://localhost:8080/"
        },
        "outputId": "c7c74157-6f57-450d-8a09-b6a5bc02094f"
      },
      "outputs": [
        {
          "output_type": "stream",
          "name": "stdout",
          "text": [
            "Ingrese los Kwh consumidos: 1000\n",
            "Ingrese su estrato (0 a 6): 5\n",
            "Ingrese un día (lunes, martes, ..., o festivo): sabado\n",
            "La tarifa base es:620000.0\n",
            "La rebaja aplicada es:124000.0\n",
            "El cargo adicional es:0.0\n",
            "El valor final a cancelar es: 613800.0\n"
          ]
        }
      ],
      "source": [
        "kwh = float(input(\"Ingrese los Kwh consumidos: \"))\n",
        "estrato = float(input(\"Ingrese su estrato (0 a 6): \"))\n",
        "dia = input(\"Ingrese un día (lunes, martes, ..., o festivo): \")\n",
        "tarifa_base= kwh * 620\n",
        "extra = (kwh - 1000) * 800\n",
        "total_pagar = tarifa_base - rebaja + extra\n",
        "if kwh < 0 or estrato < 0 or estrato > 6:\n",
        "    print(\"Dato inválido. Se debe revisar el contador en el predio.\")\n",
        "\n",
        "elif estrato==\"0\":\n",
        "    tarifa_base = kwh * 620\n",
        "elif estrato == \"1\":\n",
        "    tarifa_base = kwh * 620\n",
        "elif estrato == \"2\":\n",
        "    tarifa_base = kwh * 620\n",
        "\n",
        "elif dia == \"sabado\" or dia == \"domingo\" or dia == \"festivo\":\n",
        "    rebaja= tarifa_base* .2\n",
        "elif kwh > 1000:\n",
        "    extra = (kwh - 1000) * 800\n",
        "    total_pagar = tarifa_base - rebaja + extra\n",
        "\n",
        "print(f\"La tarifa base es:{tarifa_base}\")\n",
        "print(f\"La rebaja aplicada es:{rebaja}\")\n",
        "print(f\"El cargo adicional es:{extra}\")\n",
        "print(f\"El valor final a cancelar es: {total_pagar}\")"
      ]
    }
  ]
}