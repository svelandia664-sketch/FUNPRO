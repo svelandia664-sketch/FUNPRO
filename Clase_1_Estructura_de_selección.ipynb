{
  "nbformat": 4,
  "nbformat_minor": 0,
  "metadata": {
    "colab": {
      "provenance": []
    },
    "kernelspec": {
      "name": "python3",
      "display_name": "Python 3"
    },
    "language_info": {
      "name": "python"
    }
  },
  "cells": [
    {
      "cell_type": "markdown",
      "source": [],
      "metadata": {
        "id": "1V2UyVhmSMcq"
      }
    },
    {
      "cell_type": "code",
      "execution_count": null,
      "metadata": {
        "id": "Qk07pBtCRX9O"
      },
      "outputs": [],
      "source": [
        "#Ejemplo1: AI para gasolina\n",
        "respuesta=\"\" #Declaramos una varaible para caracter\n",
        "#Para imprimir, usamos el comando print\n",
        "print(\"Detecto poca gasolina en el tanque\")\n",
        "print(\"Desea ir a la gasolinera más cercana?\")\n",
        "#funcion input para leer respuestas\n",
        "respuesta=input()"
      ]
    },
    {
      "cell_type": "code",
      "source": [
        "respuesta=input(\"Detecto poca gasolina en el tanque\\nDesea ir a la gasolinera más cercana?\")"
      ],
      "metadata": {
        "colab": {
          "base_uri": "https://localhost:8080/"
        },
        "id": "k178w_F9bLI5",
        "outputId": "e861db50-4fb1-415e-d4fa-a58223ae8b91"
      },
      "execution_count": null,
      "outputs": [
        {
          "name": "stdout",
          "output_type": "stream",
          "text": [
            "Detecto poca gasolina en el tanque\n",
            "Desea ir a la gasolinera más cercana?sí\n"
          ]
        }
      ]
    },
    {
      "cell_type": "code",
      "source": [
        "if respuesta==\"sí\":\n",
        "  print(\"Ir a la gasolinera más cercana\")\n",
        "else:\n",
        "  print(\"seguimos derecho\")"
      ],
      "metadata": {
        "colab": {
          "base_uri": "https://localhost:8080/"
        },
        "id": "dr5Ic3EbcMAa",
        "outputId": "9a76dcee-597c-4301-fea7-38fc1ac6809c"
      },
      "execution_count": null,
      "outputs": [
        {
          "output_type": "stream",
          "name": "stdout",
          "text": [
            "Ir a la gasolinera más cercana\n"
          ]
        }
      ]
    },
    {
      "cell_type": "code",
      "source": [
        "#Vamos a mejorar el ejercicio\n",
        "import random #importando la libreria random\n",
        "gasolina=random.randint(1,100)#Hallar un número aleatorio entre 1 y 100\n",
        "gasolina"
      ],
      "metadata": {
        "colab": {
          "base_uri": "https://localhost:8080/"
        },
        "id": "xReuZ9JbfMcX",
        "outputId": "8285256a-fe9f-409f-9bb1-18377407c783"
      },
      "execution_count": null,
      "outputs": [
        {
          "output_type": "execute_result",
          "data": {
            "text/plain": [
              "37"
            ]
          },
          "metadata": {},
          "execution_count": 18
        }
      ]
    },
    {
      "cell_type": "code",
      "source": [
        "if gasolina<=10:\n",
        "  respuesta=input(\"Detecto poca gasolina en el tanque\\nDesea ir a la gasolinera más cercana?\")\n",
        "    if respuesta==\"sí\":\n",
        "  print(\"Ir a la gasolinera más cercana\")\n",
        "else:\n",
        "  print(\"seguimos derecho\")\n",
        "else:\n",
        "    print(\"Siga por el camino\")"
      ],
      "metadata": {
        "colab": {
          "base_uri": "https://localhost:8080/",
          "height": 106
        },
        "id": "tA6sie2lfukO",
        "outputId": "0d6b9214-27e2-4810-c11d-b6018898469a"
      },
      "execution_count": null,
      "outputs": [
        {
          "output_type": "error",
          "ename": "IndentationError",
          "evalue": "unexpected indent (ipython-input-398308148.py, line 3)",
          "traceback": [
            "\u001b[0;36m  File \u001b[0;32m\"/tmp/ipython-input-398308148.py\"\u001b[0;36m, line \u001b[0;32m3\u001b[0m\n\u001b[0;31m    if respuesta==\"sí\":\u001b[0m\n\u001b[0m    ^\u001b[0m\n\u001b[0;31mIndentationError\u001b[0m\u001b[0;31m:\u001b[0m unexpected indent\n"
          ]
        }
      ]
    },
    {
      "cell_type": "code",
      "source": [
        "if gasolina<=10:\n",
        "  respuesta=input(\"Detecto poca gasolina en el tanque\\nDesea ir a la gasolinera más cercana?\")\n",
        "  if respuesta==\"sí\":\n",
        "    print(\"Ir a la gasolinera más cercana\")\n",
        "  else:\n",
        "    print(\"seguimos derecho\")\n",
        "else:\n",
        "  print(\"Siga por el camino\")"
      ],
      "metadata": {
        "colab": {
          "base_uri": "https://localhost:8080/"
        },
        "id": "YOv4Xb5diXMc",
        "outputId": "54ec6217-c52a-4440-dc1a-2c78a83200c3"
      },
      "execution_count": null,
      "outputs": [
        {
          "output_type": "stream",
          "name": "stdout",
          "text": [
            "Siga por el camino\n"
          ]
        }
      ]
    }
  ]
}