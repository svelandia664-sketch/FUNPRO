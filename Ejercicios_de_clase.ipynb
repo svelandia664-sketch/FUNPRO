{
  "nbformat": 4,
  "nbformat_minor": 0,
  "metadata": {
    "colab": {
      "provenance": [],
      "authorship_tag": "ABX9TyMAMS4COhqPHTpBKNBihBcu",
      "include_colab_link": true
    },
    "kernelspec": {
      "name": "python3",
      "display_name": "Python 3"
    },
    "language_info": {
      "name": "python"
    }
  },
  "cells": [
    {
      "cell_type": "markdown",
      "metadata": {
        "id": "view-in-github",
        "colab_type": "text"
      },
      "source": [
        "<a href=\"https://colab.research.google.com/github/svelandia664-sketch/FUNPRO/blob/main/Ejercicios_de_clase.ipynb\" target=\"_parent\"><img src=\"https://colab.research.google.com/assets/colab-badge.svg\" alt=\"Open In Colab\"/></a>"
      ]
    },
    {
      "cell_type": "code",
      "execution_count": 10,
      "metadata": {
        "colab": {
          "base_uri": "https://localhost:8080/"
        },
        "id": "DaAIGkEFrp9u",
        "outputId": "d57c3650-7988-456c-e500-bbe5953ed764"
      },
      "outputs": [
        {
          "output_type": "stream",
          "name": "stdout",
          "text": [
            "Ingrese la nota: 3.3\n",
            "Aprobado porque su nota fue 3.3\n"
          ]
        }
      ],
      "source": [
        " n1=float(input(\"Ingrese la nota: \"))\n",
        " if n1>=3.2:\n",
        "    print(f\"Aprobado porque su nota fue {n1}\")\n",
        " else:\n",
        "    print(f\"Reprobado porque su nota fue {n1}\")"
      ]
    },
    {
      "cell_type": "code",
      "source": [
        "s1=float(input(\"Ingrese su sueldo: \"))\n",
        "if s1<=1000:\n",
        "   desc1=s1*.15\n",
        "   sfinal1=s1+desc1\n",
        "   print(f\"Su nuevo sueldo es de {sfinal1} ya que se le aplico un aumento del 15%\")\n",
        "else:\n",
        "   desc2=s1*.12\n",
        "   sfinal2=s1+desc2\n",
        "   print(f\"Su nuevo sueldo es de {sfinal2} ya que se le aplico un aumento del 12%\")"
      ],
      "metadata": {
        "colab": {
          "base_uri": "https://localhost:8080/"
        },
        "id": "0qEyDVEsxuip",
        "outputId": "b074b02b-6e3c-4f6f-d9fb-107033d161f9"
      },
      "execution_count": 17,
      "outputs": [
        {
          "output_type": "stream",
          "name": "stdout",
          "text": [
            "Ingrese su sueldo: 1200\n",
            "Su nuevo sueldo es de 1344.0 ya que se le aplico un aumento del 12%\n"
          ]
        }
      ]
    }
  ]
}